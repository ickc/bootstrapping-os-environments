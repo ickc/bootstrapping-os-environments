{
 "cells": [
  {
   "cell_type": "code",
   "execution_count": null,
   "metadata": {},
   "outputs": [],
   "source": [
    "from __future__ import annotations\n",
    "\n",
    "import os\n",
    "from pathlib import Path\n",
    "import subprocess\n",
    "import sys\n",
    "from itertools import product\n",
    "from collections import OrderedDict\n",
    "from functools import partial\n",
    "from logging import getLogger\n",
    "from typing import Iterable, Sequence\n",
    "\n",
    "from IPython.display import display\n",
    "\n",
    "import numpy as np\n",
    "import pandas as pd\n",
    "import ujson\n",
    "import yaml\n",
    "import yamlloader\n",
    "from conda.cli.python_api import run_command, Commands\n",
    "from conda.history import History\n",
    "from map_parallel import map_parallel\n",
    "\n",
    "from conda_env import PY2_PACKAGES\n",
    "\n",
    "logger = getLogger(__name__)\n",
    "\n",
    "CONDA = \"mamba\"\n",
    "conda_path = Path(\"~/mambaforge/bin\").expanduser()\n",
    "os.environ[\"PATH\"] = os.pathsep.join((str(conda_path), os.environ[\"PATH\"]))\n",
    "\n",
    "\n",
    "def get_all_conda_envs() -> list[str]:\n",
    "    \"\"\"Obtain all conda environment paths excluding base/root using conda's Python API.\"\"\"\n",
    "    return [\n",
    "        env\n",
    "        for env in ujson.loads(run_command(Commands.INFO, \"--json\")[0])[\"envs\"]\n",
    "        if \"/envs/\" in env  # filter out the root/base env\n",
    "    ]\n",
    "\n",
    "\n",
    "def conda_list(env: str) -> pd.DataFrame:\n",
    "    \"\"\"`conda list` of environment as a DataFrame using conda's Python API.\n",
    "\n",
    "    This one uses the conda Python API that excludes pip installed packages.\n",
    "    \"\"\"\n",
    "    data = ujson.loads(run_command(Commands.LIST, \"--prefix\", env, \"--json\")[0])\n",
    "    df = pd.DataFrame(data)\n",
    "    df.set_index(\"name\", inplace=True)\n",
    "    return df\n",
    "\n",
    "\n",
    "def conda_list_subprocess(env: str) -> pd.DataFrame:\n",
    "    \"\"\"`conda list` of environment as a DataFrame using cli.\n",
    "\n",
    "    This one uses the cli directly that includes pip installed packages.\n",
    "    \"\"\"\n",
    "    cmd = (\n",
    "        CONDA,\n",
    "        \"list\",\n",
    "        \"--prefix\",\n",
    "        env,\n",
    "        \"--json\",\n",
    "    )\n",
    "    res = subprocess.run(cmd, stdout=subprocess.PIPE)\n",
    "    if res.returncode != 0:\n",
    "        logger.critical(f\"Failed at command {subprocess.list2cmdline(cmd)}\")\n",
    "        raise RuntimeError(res)\n",
    "    data = ujson.loads(res.stdout)\n",
    "    df = pd.DataFrame(data)\n",
    "    df.set_index(\"name\", inplace=True)\n",
    "    return df\n",
    "\n",
    "\n",
    "def conda_check_compat_python_version(\n",
    "    version: str,\n",
    "    package: str,\n",
    "    channels: list[str] = [\"defaults\", \"conda-forge\"],\n",
    "    debug: bool = False,\n",
    ") -> bool:\n",
    "    \"\"\"Check if a package is compatible with a Python version.\n",
    "\n",
    "    :param version: can be a dot-delimited version string for CPython, or a pypy version such as pypy3.6.\n",
    "    \"\"\"\n",
    "    args = [\n",
    "        CONDA,\n",
    "        \"create\",\n",
    "        \"--dry-run\",\n",
    "        \"--json\",\n",
    "        \"-n\",\n",
    "        \"conda_check_compat_python_version\",\n",
    "        package,\n",
    "    ]\n",
    "    if version.startswith(\"pypy\"):\n",
    "        args += [\n",
    "            \"pypy\",\n",
    "            version,\n",
    "        ]\n",
    "        if len(channels) != 1 or channels[0] != \"conda-forge\":\n",
    "            logger.warn(\n",
    "                f\"channels should be set to conda-forge only for {version}, continue...\"\n",
    "            )\n",
    "    else:\n",
    "        args.append(f\"python={version}\")\n",
    "    if channels:\n",
    "        for ch in channels:\n",
    "            args += [\"--channel\", ch]\n",
    "    res = subprocess.run(args, stdout=subprocess.PIPE)\n",
    "    if debug:\n",
    "        logger.debug(subprocess.list2cmdline(args))\n",
    "        yaml.dump(ujson.loads(res.stdout), stream=sys.stderr)\n",
    "    return not bool(res.returncode)\n",
    "\n",
    "\n",
    "def conda_check_compat_python_versions(\n",
    "    version: str,\n",
    "    packages: list[str],\n",
    "    channels: list[str] = [\"defaults\", \"conda-forge\"],\n",
    "    debug: bool = False,\n",
    "    processes: int = os.cpu_count(),\n",
    ") -> list[bool]:\n",
    "    return map_parallel(\n",
    "        partial(\n",
    "            conda_check_compat_python_version,\n",
    "            version,\n",
    "            channels=channels,\n",
    "            debug=debug,\n",
    "        ),\n",
    "        packages,\n",
    "        mode=\"multithreading\",\n",
    "        processes=processes,\n",
    "    )\n",
    "\n",
    "\n",
    "def get_user_installed_packages(env: str) -> list[str]:\n",
    "    \"\"\"return user installed packages in prefix `env`.\n",
    "\n",
    "    using undocumented conda Python API, see\n",
    "    https://github.com/conda/conda/issues/4545#issuecomment-469984684\n",
    "    \"\"\"\n",
    "    history = History(env)\n",
    "    return history.get_requested_specs_map().keys()\n",
    "\n",
    "\n",
    "def filter_channels(env, channels=(\"pypi\",)) -> Sequence[str]:\n",
    "    \"\"\"return packages from `channels` in environment `env`.\"\"\"\n",
    "    df = conda_list_subprocess(env)\n",
    "    return df[df.channel.isin(channels)].index\n",
    "\n",
    "\n",
    "def map_union(func: callable, iterables: Iterable) -> set:\n",
    "    \"\"\"set union of the results from `func` applied to items in `iterables`.\"\"\"\n",
    "    return set().union(*(set(func(item)) for item in iterables))\n",
    "\n",
    "\n",
    "def get_url(version: str, os: str) -> str:\n",
    "    \"\"\"Get url to Anaconda's webpage listing a table of supported packages.\n",
    "\n",
    "    This should be updated often as Anaconda's webpages evolved.\n",
    "    \"\"\"\n",
    "    assert os in (\"linux\", \"osx\")\n",
    "    if version == \"2.7\":\n",
    "        # from https://docs.anaconda.com/anaconda/packages/oldpkglists/\n",
    "        url = \"https://docs.anaconda.com/anaconda/packages/old-pkg-lists/2019.10/py{version}_{os}-64/\"\n",
    "    else:\n",
    "        # from https://docs.anaconda.com/anaconda/packages/pkg-docs/\n",
    "        url = \"https://docs.anaconda.com/anaconda/packages/py{version}_{os}-64/\"\n",
    "    return url.format(version=version, os=os)\n",
    "\n",
    "\n",
    "def get_df(version: str, os: str) -> pd.DataFrame:\n",
    "    \"\"\"Get table of packages from Anaconda's support page in DataFrame.\"\"\"\n",
    "    df = pd.read_html(get_url(version, os), header=0, index_col=0)[0]\n",
    "    assert np.all(df[\"In Installer\"].isna())\n",
    "    df.drop(\"In Installer\", axis=1, inplace=True)\n",
    "    return df\n",
    "\n",
    "\n",
    "def diff(left: pd.DataFrame, right: pd.DataFrame) -> tuple[pd.DataFrame, pd.DataFrame]:\n",
    "    \"\"\"Return a DataFrame where the index is exclusive to each on the left & right.\"\"\"\n",
    "    df_left = get_df(*left)\n",
    "    df_right = get_df(*right)\n",
    "\n",
    "    idx_left = set(df_left.index)\n",
    "    idx_right = set(df_right.index)\n",
    "\n",
    "    idx_left_only = idx_left - idx_right\n",
    "    idx_right_only = idx_right - idx_left\n",
    "    return df_left.loc[idx_left_only], df_right.loc[idx_right_only]\n",
    "\n",
    "\n",
    "def parse_txt(path: str) -> set[str]:\n",
    "    \"\"\"Parse the txt format used in specifying packages.\n",
    "\n",
    "    the convention is that\n",
    "\n",
    "    - starts with ``#`` is a package to be ignored in installation\n",
    "    - starts with ``#*`` is a comment\n",
    "    - optionally has `::` for conda channel delimiter and channel will be ignored here\n",
    "    - optionally has version pinned by `=` and will be ignored here\n",
    "    \"\"\"\n",
    "    with open(path, \"r\") as f:\n",
    "        return set(\n",
    "            package\n",
    "            for word in f.readlines()\n",
    "            if (package := word.lstrip(\"#\").strip().split(\"::\")[-1].split(\"=\")[0])\n",
    "            and not package.startswith(\"*\")\n",
    "        )"
   ]
  },
  {
   "cell_type": "code",
   "execution_count": null,
   "metadata": {},
   "outputs": [],
   "source": [
    "all_conda_envs = get_all_conda_envs()\n",
    "all_conda_envs"
   ]
  },
  {
   "cell_type": "markdown",
   "metadata": {},
   "source": [
    "List of environments that will be inspected:"
   ]
  },
  {
   "cell_type": "code",
   "execution_count": null,
   "metadata": {
    "lines_to_next_cell": 2
   },
   "outputs": [],
   "source": [
    "envs = [env for env in all_conda_envs if \"-\" in (env_name := env.split(\"/\")[-1])]\n",
    "envs"
   ]
  },
  {
   "cell_type": "markdown",
   "metadata": {
    "lines_to_next_cell": 2
   },
   "source": [
    "# Conda"
   ]
  },
  {
   "cell_type": "code",
   "execution_count": null,
   "metadata": {},
   "outputs": [],
   "source": [
    "# set of all user installed packages in envs\n",
    "conda_packages = map_union(get_user_installed_packages, envs)\n",
    "conda_all = (\n",
    "    parse_txt(\"conda.txt\") | parse_txt(\"conda-all.txt\") | parse_txt(\"conda-CPython.txt\")\n",
    ")\n",
    "conda_all2 = conda_all | set(PY2_PACKAGES)"
   ]
  },
  {
   "cell_type": "markdown",
   "metadata": {},
   "source": [
    "User installed packages not in `conda-all.txt` or `conda.txt`"
   ]
  },
  {
   "cell_type": "code",
   "execution_count": null,
   "metadata": {},
   "outputs": [],
   "source": [
    "list(map(print, sorted(conda_packages - conda_all2)));"
   ]
  },
  {
   "cell_type": "markdown",
   "metadata": {},
   "source": [
    "in `conda-all.txt` or `conda.txt` but not installed"
   ]
  },
  {
   "cell_type": "code",
   "execution_count": null,
   "metadata": {},
   "outputs": [],
   "source": [
    "list(map(print, sorted(conda_all2 - conda_packages)));"
   ]
  },
  {
   "cell_type": "markdown",
   "metadata": {},
   "source": [
    "# pip"
   ]
  },
  {
   "cell_type": "code",
   "execution_count": null,
   "metadata": {},
   "outputs": [],
   "source": [
    "# all pypi packages from envs\n",
    "pip_packages = map_union(filter_channels, envs)\n",
    "pip_all = parse_txt(\"pip.txt\")"
   ]
  },
  {
   "cell_type": "markdown",
   "metadata": {},
   "source": [
    "pypi packages not in `pip.txt`"
   ]
  },
  {
   "cell_type": "code",
   "execution_count": null,
   "metadata": {},
   "outputs": [],
   "source": [
    "list(map(print, sorted(pip_packages - pip_all)));"
   ]
  },
  {
   "cell_type": "markdown",
   "metadata": {},
   "source": [
    "in `pip.txt` but not installed"
   ]
  },
  {
   "cell_type": "code",
   "execution_count": null,
   "metadata": {},
   "outputs": [],
   "source": [
    "list(map(print, sorted(pip_all - pip_packages)));"
   ]
  },
  {
   "cell_type": "markdown",
   "metadata": {},
   "source": [
    "# Inspect packages not compatible with a Python version"
   ]
  },
  {
   "cell_type": "code",
   "execution_count": null,
   "metadata": {},
   "outputs": [],
   "source": [
    "version_check = \"3.10\"\n",
    "conda_all_tuple = tuple(conda_all)\n",
    "conda_compat = conda_check_compat_python_versions(version_check, conda_all_tuple)\n",
    "df_compat = pd.DataFrame(conda_compat, index=conda_all_tuple, columns=[\"is_compat\"])\n",
    "print(\n",
    "    f\"These are not compatible with {version_check}:\\n\",\n",
    "    df_compat[~df_compat.is_compat].index.values,\n",
    ")\n",
    "print(\n",
    "    f\"{df_compat.is_compat.sum()} packages are compatible with {version_check} out of {df_compat.shape[0]}.\"\n",
    ")"
   ]
  },
  {
   "cell_type": "markdown",
   "metadata": {},
   "source": [
    "# Inspect packages not compatible with pypy3.6\n",
    "\n",
    "Warning: this is not correct. conda might actually install both pypy and CPython in the same env. Giving this up for now."
   ]
  },
  {
   "cell_type": "code",
   "execution_count": null,
   "metadata": {},
   "outputs": [],
   "source": [
    "conda_compat_pypy = conda_check_compat_python_versions(\n",
    "    \"pypy3.6\",\n",
    "    conda_all_tuple,\n",
    "    channels=[\"conda-forge\"],\n",
    ")\n",
    "df_compat_pypy = pd.DataFrame(\n",
    "    conda_compat_pypy,\n",
    "    index=conda_all_tuple,\n",
    "    columns=[\"is_compat\"],\n",
    ")\n",
    "print(\n",
    "    \"These are not compatible with pypy3.6:\\n\",\n",
    "    df_compat_pypy[~df_compat_pypy.is_compat].index.values,\n",
    ")\n",
    "print(\n",
    "    f\"{df_compat_pypy.is_compat.sum()} packages are compatible with pypy3.6 out of {df_compat_pypy.shape[0]}.\"\n",
    ")"
   ]
  },
  {
   "cell_type": "markdown",
   "metadata": {},
   "source": [
    "# Inspect packages not supported by Anaconda"
   ]
  },
  {
   "cell_type": "code",
   "execution_count": null,
   "metadata": {},
   "outputs": [],
   "source": [
    "versions = (\"2.7\", \"3.6\", \"3.7\", \"3.8\", \"3.9\")\n",
    "oses = (\"osx\", \"linux\")"
   ]
  },
  {
   "cell_type": "raw",
   "metadata": {},
   "source": [
    "for version in versions:\n",
    "    for os_ in oses:\n",
    "        print(version, os_)\n",
    "        display(get_df(version, os_))"
   ]
  },
  {
   "cell_type": "raw",
   "metadata": {},
   "source": [
    "versions_oses = list(product(versions, oses))\n",
    "n = len(versions_oses)\n",
    "for i in range(n):\n",
    "    for j in range(i + 1, n):\n",
    "        version, os_ = versions_oses[i]\n",
    "        version_right, os_right = versions_oses[j]\n",
    "\n",
    "        df_left, df_right = diff((version, os_), (version_right, os_right))\n",
    "        print((version, os_), (version_right, os_right))\n",
    "        display(df_left)\n",
    "        display(df_right)"
   ]
  },
  {
   "cell_type": "code",
   "execution_count": null,
   "metadata": {},
   "outputs": [],
   "source": [
    "version = \"3.9\"\n",
    "os_ = \"linux\""
   ]
  },
  {
   "cell_type": "code",
   "execution_count": null,
   "metadata": {},
   "outputs": [],
   "source": [
    "df = get_df(version, os_)\n",
    "conda_all - set(df.index.values)"
   ]
  },
  {
   "cell_type": "markdown",
   "metadata": {},
   "source": [
    "# Intersection of Anaconda supported packages\n",
    "\n",
    "Create an environment named `acx`, which stands for Anaconda extended, as an intersection of packages installed and those supported by Anaconda"
   ]
  },
  {
   "cell_type": "code",
   "execution_count": null,
   "metadata": {},
   "outputs": [],
   "source": [
    "df_linux = get_df(version, \"linux\")"
   ]
  },
  {
   "cell_type": "code",
   "execution_count": null,
   "metadata": {},
   "outputs": [],
   "source": [
    "df_mac = get_df(version, \"osx\")"
   ]
  },
  {
   "cell_type": "code",
   "execution_count": null,
   "metadata": {},
   "outputs": [],
   "source": [
    "conda_supported_packages_linux = set(df_linux.index)\n",
    "conda_supported_packages_mac = set(df_mac.index)\n",
    "conda_supported_packages = conda_supported_packages_linux | conda_supported_packages_mac"
   ]
  },
  {
   "cell_type": "code",
   "execution_count": null,
   "metadata": {},
   "outputs": [],
   "source": [
    "len(conda_supported_packages_mac), len(conda_supported_packages_linux), len(\n",
    "    conda_supported_packages\n",
    ")"
   ]
  },
  {
   "cell_type": "code",
   "execution_count": null,
   "metadata": {},
   "outputs": [],
   "source": [
    "# packages in conda_all.txt or conda.txt, that's supported by Anaconda\n",
    "conda_filtered_linux = conda_all & conda_supported_packages_linux\n",
    "conda_filtered_mac = conda_all & conda_supported_packages_mac\n",
    "conda_filtered = conda_filtered_mac & conda_filtered_linux\n",
    "len(conda_filtered), len(conda_filtered_mac), len(\n",
    "    conda_filtered_linux\n",
    "), conda_filtered_linux - conda_filtered_mac\n",
    "conda_filtered.update({\"anaconda\", \"panflute\", \"cytoolz\"})\n",
    "conda_filtered = sorted(conda_filtered)\n",
    "len(conda_filtered)"
   ]
  },
  {
   "cell_type": "code",
   "execution_count": null,
   "metadata": {},
   "outputs": [],
   "source": [
    "with open(\"acx.yml\", \"w\") as f:\n",
    "    yaml.dump(\n",
    "        OrderedDict(\n",
    "            (\n",
    "                (\"name\", \"acx\"),\n",
    "                (\"channels\", [\"defaults\"]),\n",
    "                (\"dependencies\", conda_filtered),\n",
    "            )\n",
    "        ),\n",
    "        f,\n",
    "        Dumper=yamlloader.ordereddict.CSafeDumper,\n",
    "        default_flow_style=False,\n",
    "    )"
   ]
  }
 ],
 "metadata": {
  "jupytext": {
   "formats": "ipynb,py:percent"
  },
  "kernelspec": {
   "display_name": "all39-defaults",
   "language": "python",
   "name": "all39-defaults"
  },
  "language_info": {
   "codemirror_mode": {
    "name": "ipython",
    "version": 3
   },
   "file_extension": ".py",
   "mimetype": "text/x-python",
   "name": "python",
   "nbconvert_exporter": "python",
   "pygments_lexer": "ipython3",
   "version": "3.9.5"
  }
 },
 "nbformat": 4,
 "nbformat_minor": 4
}
